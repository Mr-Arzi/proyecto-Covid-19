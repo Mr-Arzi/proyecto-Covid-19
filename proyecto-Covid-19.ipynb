{
 "cells": [
  {
   "cell_type": "code",
   "execution_count": 53,
   "id": "99ef8326-5f64-461c-9799-6f077b8ab974",
   "metadata": {},
   "outputs": [
    {
     "name": "stdout",
     "output_type": "stream",
     "text": [
      "primeras filas\n",
      "   ID  Edad    Sexo  Temperatura  Presion_Sistolica  Presion_Diastolica  \\\n",
      "0   1    52  Hombre         35.5                155                  75   \n",
      "1   2    15  Hombre         38.1                142                  66   \n",
      "2   3    72   Mujer         35.8                140                  76   \n",
      "3   4    61  Hombre         38.6                128                  82   \n",
      "4   5    21   Mujer         35.9                140                  85   \n",
      "\n",
      "   Frecuencia_Cardiaca  Nivel_Oxigeno Enfermo_COVID Hospitalizado  \n",
      "0                   89             97            No            Sí  \n",
      "1                   73             93            Sí            No  \n",
      "2                   66             81            No            No  \n",
      "3                   76             88            Sí            No  \n",
      "4                  103             84            Sí            Sí  \n",
      "dimensiones \n",
      " (300, 10)\n",
      "tipo de datos \n",
      " ID                       int64\n",
      "Edad                     int64\n",
      "Sexo                    object\n",
      "Temperatura            float64\n",
      "Presion_Sistolica        int64\n",
      "Presion_Diastolica       int64\n",
      "Frecuencia_Cardiaca      int64\n",
      "Nivel_Oxigeno            int64\n",
      "Enfermo_COVID           object\n",
      "Hospitalizado           object\n",
      "dtype: object\n"
     ]
    }
   ],
   "source": [
    "#Carga del dataset usando Pandas.\n",
    "#Exploración inicial: dimensiones, primeras filas, tipos de datos\n",
    "\n",
    "import pandas as pd\n",
    "import matplotlib.pyplot as plt\n",
    "\n",
    "import seaborn as sns\n",
    "df = pd.read_csv(\"pacientes_covid.csv\")\n",
    "print(\"primeras filas\")\n",
    "print(df.head())\n",
    "\n",
    "print(\"dimensiones\",\"\\n\",df.shape)\n",
    "\n",
    "print(\"tipo de datos\",\"\\n\",df.dtypes)\n"
   ]
  },
  {
   "cell_type": "code",
   "execution_count": 54,
   "id": "fd88dc0d-c63b-49cc-b16a-853c9cc8ad8b",
   "metadata": {},
   "outputs": [
    {
     "name": "stdout",
     "output_type": "stream",
     "text": [
      "Numero total de pacientes \n",
      " 300\n",
      "promedio edad \n",
      " 43.86333333333334\n",
      "      ID  Edad    Sexo  Temperatura  Presion_Sistolica  Presion_Diastolica  \\\n",
      "26    27    89   Mujer         37.6                 94                  94   \n",
      "48    49    89   Mujer         35.6                158                  72   \n",
      "91    92    89   Mujer         36.3                130                  79   \n",
      "98    99    89   Mujer         35.6                123                  64   \n",
      "170  171    89  Hombre         34.8                126                  97   \n",
      "246  247    89   Mujer         37.8                100                  76   \n",
      "276  277    89  Hombre         36.5                101                  93   \n",
      "\n",
      "     Frecuencia_Cardiaca  Nivel_Oxigeno Enfermo_COVID Hospitalizado  \n",
      "26                    77             91            Sí            Sí  \n",
      "48                   105             96            Sí            No  \n",
      "91                   118             90            Sí            Sí  \n",
      "98                    91             94            Sí            No  \n",
      "170                   80             92            Sí            No  \n",
      "246                   94             80            Sí            No  \n",
      "276                   60             99            No            No  \n",
      "      ID  Edad    Sexo  Temperatura  Presion_Sistolica  Presion_Diastolica  \\\n",
      "102  103     1   Mujer         36.7                140                  94   \n",
      "133  134     1   Mujer         36.3                129                  70   \n",
      "172  173     1   Mujer         35.2                103                  64   \n",
      "205  206     1  Hombre         38.6                129                  87   \n",
      "243  244     1  Hombre         37.9                115                  93   \n",
      "255  256     1   Mujer         38.7                111                  61   \n",
      "\n",
      "     Frecuencia_Cardiaca  Nivel_Oxigeno Enfermo_COVID Hospitalizado  \n",
      "102                   67             96            Sí            No  \n",
      "133                  117             97            Sí            Sí  \n",
      "172                  117             96            Sí            Sí  \n",
      "205                  104             97            Sí            No  \n",
      "243                  116             83            No            No  \n",
      "255                   82             83            No            No  \n",
      "promedio temperatura \n",
      " 36.994\n"
     ]
    }
   ],
   "source": [
    "#Número total de pacientes.\n",
    "#Promedio de edad.\n",
    "#Paciente más joven y más viejo.\n",
    "#Promedio de temperatura.\n",
    "\n",
    "print(\"Numero total de pacientes\",\"\\n\",df[\"ID\"].count())\n",
    "\n",
    "print(\"promedio edad\",\"\\n\",df[\"Edad\"].mean())\n",
    "\n",
    "paciente_mas_viejo = df[df[\"Edad\"] == df[\"Edad\"].max()]\n",
    "print(paciente_mas_viejo)\n",
    "\n",
    "paciente_mas_joven = df[df[\"Edad\"] == df[\"Edad\"].min()]\n",
    "print(paciente_mas_joven)\n",
    "\n",
    "print(\"promedio temperatura\",\"\\n\",df[\"Temperatura\"].mean())"
   ]
  },
  {
   "cell_type": "code",
   "execution_count": 55,
   "id": "a3b1d559-9589-4ea1-83bd-e368b9cca3dd",
   "metadata": {},
   "outputs": [
    {
     "name": "stdout",
     "output_type": "stream",
     "text": [
      "Enfermo_COVID\n",
      "No    88.836207\n",
      "Sí    89.385870\n",
      "Name: Nivel_Oxigeno, dtype: float64\n"
     ]
    }
   ],
   "source": [
    "#Promedio de saturación de oxígeno en pacientes enfermos vs sanos.\n",
    "promedios = df.groupby(\"Enfermo_COVID\")[\"Nivel_Oxigeno\"].mean()\n",
    "print(promedios)"
   ]
  },
  {
   "cell_type": "code",
   "execution_count": 56,
   "id": "212d3156-2e08-4047-b369-1d2f4bb130bf",
   "metadata": {},
   "outputs": [
    {
     "name": "stdout",
     "output_type": "stream",
     "text": [
      "numero de mujeres:  160\n",
      "Enfermo_COVID\n",
      "Sí    95\n",
      "No    65\n",
      "Name: count, dtype: int64\n"
     ]
    }
   ],
   "source": [
    "#cuantas mujeres enfermas y cuantas sanas\n",
    "\n",
    "conteoMujeres = df['Sexo'].value_counts()\n",
    "print(\"numero de mujeres: \",conteoMujeres['Mujer'])\n",
    "\n",
    "conteos = df[df['Sexo'] == 'Mujer']['Enfermo_COVID'].value_counts()\n",
    "print(conteos)\n"
   ]
  },
  {
   "cell_type": "code",
   "execution_count": 57,
   "id": "81ffb820-c9c3-41a1-9dfe-84554bec5553",
   "metadata": {},
   "outputs": [
    {
     "name": "stdout",
     "output_type": "stream",
     "text": [
      "numero de Hombres:  140\n",
      "Enfermo_COVID\n",
      "Sí    89\n",
      "No    51\n",
      "Name: count, dtype: int64\n"
     ]
    }
   ],
   "source": [
    "#cuantos hombres enfermos y cuantas sanos\n",
    "\n",
    "conteoHombres = df['Sexo'].value_counts()\n",
    "print(\"numero de Hombres: \",conteoHombres['Hombre'])\n",
    "\n",
    "conteos = df[df['Sexo'] == 'Hombre']['Enfermo_COVID'].value_counts()\n",
    "print(conteos)"
   ]
  },
  {
   "cell_type": "code",
   "execution_count": 58,
   "id": "926be139-a04e-4d01-85d7-fec16e153610",
   "metadata": {},
   "outputs": [
    {
     "name": "stdout",
     "output_type": "stream",
     "text": [
      "numero de niños 49\n",
      "Enfermo_COVID\n",
      "Sí    34\n",
      "No    15\n",
      "Name: count, dtype: int64\n",
      "\n",
      "\n",
      "numero de jovenes 54\n",
      "Enfermo_COVID\n",
      "Sí    27\n",
      "No    27\n",
      "Name: count, dtype: int64\n",
      "\n",
      "\n",
      "numero de adultos 96\n",
      "Enfermo_COVID\n",
      "Sí    61\n",
      "No    35\n",
      "Name: count, dtype: int64\n",
      "\n",
      "\n",
      "numero de adultos mayores 101\n",
      "Enfermo_COVID\n",
      "Sí    62\n",
      "No    39\n",
      "Name: count, dtype: int64\n"
     ]
    }
   ],
   "source": [
    "#Clasificar a los pacientes en niños (<12 años), jóvenes (13-30 años),\n",
    "#adultos (31-59 años) y adultos mayores (60+ años). Contar enfermos y\n",
    "#sanos por grupo de edad.\n",
    "\n",
    "\n",
    "niños = (df['Edad'] <= 12).sum()\n",
    "print(\"numero de niños\",niños)\n",
    "conteo = df[df['Edad'] <= 12]['Enfermo_COVID'].value_counts()\n",
    "print(conteo)\n",
    "print(\"\\n\")\n",
    "\n",
    "contJovenes = (df['Edad'] >= 13) & (df['Edad'] <=30)\n",
    "jovenes = contJovenes.sum()\n",
    "print(\"numero de jovenes\",jovenes)\n",
    "conteoJ = df.loc[contJovenes,'Enfermo_COVID'].value_counts()\n",
    "print(conteoJ)\n",
    "print(\"\\n\")\n",
    "\n",
    "contAdultos = (df['Edad'] >= 31) & (df['Edad'] <=59)\n",
    "adultos = contAdultos.sum()\n",
    "print(\"numero de adultos\",adultos)\n",
    "conteoA = df.loc[contAdultos, 'Enfermo_COVID'].value_counts()\n",
    "print(conteoA)\n",
    "print(\"\\n\")\n",
    "\n",
    "adultoM = (df['Edad'] >= 60).sum()\n",
    "print(\"numero de adultos mayores\",adultoM)\n",
    "conteoM = df[df['Edad']>= 60]['Enfermo_COVID'].value_counts()\n",
    "print(conteoM)\n",
    "\n",
    "\n"
   ]
  },
  {
   "cell_type": "code",
   "execution_count": 65,
   "id": "5d5c0890-52ff-4364-83b2-a87fea4a4813",
   "metadata": {},
   "outputs": [
    {
     "name": "stdout",
     "output_type": "stream",
     "text": [
      "numero de pacientes hospitalizados:  96\n",
      "\n",
      "\n",
      "numero de pacientes no hospitalizados:  204\n",
      "\n",
      "\n",
      "porcentaje hospitalizado;  32.0\n",
      "\n",
      "\n",
      "porcentaje no hospitalizado;  68.0\n"
     ]
    }
   ],
   "source": [
    "#Porcentaje de pacientes hospitalizados vs no hospitalizados.\n",
    "\n",
    "pacienteH = df['Hospitalizado'].value_counts()\n",
    "print(\"numero de pacientes hospitalizados: \",pacienteH['Sí'])\n",
    "print(\"\\n\")\n",
    "pacienteH = df['Hospitalizado'].value_counts()\n",
    "print(\"numero de pacientes no hospitalizados: \",pacienteH['No'])\n",
    "print(\"\\n\")\n",
    "total = len(df)\n",
    "hospitalizados = (df['Hospitalizado'] == 'Sí').sum()\n",
    "porcentaje_Hosp = (hospitalizados / total) * 100\n",
    "print(\"porcentaje hospitalizado; \", porcentaje_Hosp)\n",
    "print(\"\\n\")\n",
    "total = len(df)\n",
    "hospitalizadosNo = (df['Hospitalizado'] == 'No').sum()\n",
    "porcentaje_NoHosp = (hospitalizadosNo / total) * 100\n",
    "print(\"porcentaje no hospitalizado; \", porcentaje_NoHosp)\n"
   ]
  },
  {
   "cell_type": "code",
   "execution_count": 63,
   "id": "f824b284-ac24-4868-b368-52b9c81ef9b5",
   "metadata": {},
   "outputs": [
    {
     "data": {
      "image/png": "[encoded data removed]",
      "text/plain": [
       "<Figure size 640x480 with 1 Axes>"
      ]
     },
     "metadata": {},
     "output_type": "display_data"
    }
   ],
   "source": [
    "#Visualizaciones con Matplotlib/Seaborn:\n",
    "# Histograma de edades.\n",
    "\n",
    "plt.hist(df['Edad'], bins=5, color='orange', edgecolor='black')\n",
    "plt.title('Histograma de Edades')\n",
    "plt.xlabel('Edad')\n",
    "plt.ylabel('Frecuencia')\n",
    "plt.show()"
   ]
  },
  {
   "cell_type": "code",
   "execution_count": 61,
   "id": "8c3226a9-a687-4e83-a525-500af71ce5bb",
   "metadata": {},
   "outputs": [],
   "source": [
    "# Gráfico de barras comparando hombres y mujeres enfermos.\n",
    "\n"
   ]
  },
  {
   "cell_type": "code",
   "execution_count": null,
   "id": "9dd5ffb6-d1b7-41e6-8b56-8383cd3026c5",
   "metadata": {},
   "outputs": [],
   "source": [
    "# Gráfico de barras de pacientes hospitalizados vs no hospitalizados.\n"
   ]
  },
  {
   "cell_type": "code",
   "execution_count": null,
   "id": "d34bb421-f773-4b79-ae80-9cf7b7b1cab9",
   "metadata": {},
   "outputs": [],
   "source": [
    "# Boxplot de temperatura en pacientes enfermos vs sanos.\n"
   ]
  },
  {
   "cell_type": "code",
   "execution_count": null,
   "id": "62afb28f-a4e2-446f-bced-25107de45054",
   "metadata": {},
   "outputs": [],
   "source": [
    "# Heatmap de correlación entre las variables biomédicas."
   ]
  }
 ],
 "metadata": {
  "kernelspec": {
   "display_name": "Python 3 (ipykernel)",
   "language": "python",
   "name": "python3"
  },
  "language_info": {
   "codemirror_mode": {
    "name": "ipython",
    "version": 3
   },
   "file_extension": ".py",
   "mimetype": "text/x-python",
   "name": "python",
   "nbconvert_exporter": "python",
   "pygments_lexer": "ipython3",
   "version": "3.12.3"
  }
 },
 "nbformat": 4,
 "nbformat_minor": 5
}
